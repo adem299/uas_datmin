{
 "cells": [
  {
   "cell_type": "markdown",
   "metadata": {},
   "source": [
    "2108799\n",
    "Ade Mulyana"
   ]
  },
  {
   "cell_type": "code",
   "execution_count": 1,
   "metadata": {},
   "outputs": [],
   "source": [
    "import pandas as pd\n",
    "import numpy as np\n",
    "import matplotlib.pyplot as plt\n",
    "import seaborn as sns\n",
    "%matplotlib inline"
   ]
  },
  {
   "cell_type": "code",
   "execution_count": 2,
   "metadata": {},
   "outputs": [],
   "source": [
    "df = pd.read_csv(r\"C:\\Users\\ACER\\Documents\\UPI\\Semester3\\Data_mining_WH\\UAS\\dataset\\pmi.csv\")"
   ]
  },
  {
   "cell_type": "code",
   "execution_count": 3,
   "metadata": {},
   "outputs": [
    {
     "data": {
      "text/html": [
       "<div>\n",
       "<style scoped>\n",
       "    .dataframe tbody tr th:only-of-type {\n",
       "        vertical-align: middle;\n",
       "    }\n",
       "\n",
       "    .dataframe tbody tr th {\n",
       "        vertical-align: top;\n",
       "    }\n",
       "\n",
       "    .dataframe thead th {\n",
       "        text-align: right;\n",
       "    }\n",
       "</style>\n",
       "<table border=\"1\" class=\"dataframe\">\n",
       "  <thead>\n",
       "    <tr style=\"text-align: right;\">\n",
       "      <th></th>\n",
       "      <th>prov</th>\n",
       "      <th>tahun</th>\n",
       "      <th>kategori_pmi</th>\n",
       "    </tr>\n",
       "  </thead>\n",
       "  <tbody>\n",
       "    <tr>\n",
       "      <th>0</th>\n",
       "      <td>ACEH</td>\n",
       "      <td>2022</td>\n",
       "      <td>TINGGI</td>\n",
       "    </tr>\n",
       "    <tr>\n",
       "      <th>1</th>\n",
       "      <td>SUMATERA UTARA</td>\n",
       "      <td>2022</td>\n",
       "      <td>TINGGI</td>\n",
       "    </tr>\n",
       "    <tr>\n",
       "      <th>2</th>\n",
       "      <td>SUMATERA BARAT</td>\n",
       "      <td>2022</td>\n",
       "      <td>TINGGI</td>\n",
       "    </tr>\n",
       "  </tbody>\n",
       "</table>\n",
       "</div>"
      ],
      "text/plain": [
       "             prov  tahun kategori_pmi\n",
       "0            ACEH   2022       TINGGI\n",
       "1  SUMATERA UTARA   2022       TINGGI\n",
       "2  SUMATERA BARAT   2022       TINGGI"
      ]
     },
     "execution_count": 3,
     "metadata": {},
     "output_type": "execute_result"
    }
   ],
   "source": [
    "df.head(3)"
   ]
  },
  {
   "cell_type": "code",
   "execution_count": 4,
   "metadata": {},
   "outputs": [
    {
     "data": {
      "text/plain": [
       "(442, 3)"
      ]
     },
     "execution_count": 4,
     "metadata": {},
     "output_type": "execute_result"
    }
   ],
   "source": [
    "df.shape"
   ]
  },
  {
   "cell_type": "markdown",
   "metadata": {},
   "source": [
    "Untuk menghitung kepadatan penduduk"
   ]
  },
  {
   "cell_type": "code",
   "execution_count": 5,
   "metadata": {},
   "outputs": [],
   "source": [
    "dfh1 = pd.read_csv(r\"C:\\Users\\ACER\\Documents\\UPI\\Semester3\\Data_mining_WH\\UAS\\dataset\\kepadatan_penduduk.csv\")"
   ]
  },
  {
   "cell_type": "code",
   "execution_count": 6,
   "metadata": {},
   "outputs": [
    {
     "data": {
      "text/html": [
       "<div>\n",
       "<style scoped>\n",
       "    .dataframe tbody tr th:only-of-type {\n",
       "        vertical-align: middle;\n",
       "    }\n",
       "\n",
       "    .dataframe tbody tr th {\n",
       "        vertical-align: top;\n",
       "    }\n",
       "\n",
       "    .dataframe thead th {\n",
       "        text-align: right;\n",
       "    }\n",
       "</style>\n",
       "<table border=\"1\" class=\"dataframe\">\n",
       "  <thead>\n",
       "    <tr style=\"text-align: right;\">\n",
       "      <th></th>\n",
       "      <th>prov</th>\n",
       "      <th>tahun</th>\n",
       "      <th>kepadatan_penduduk</th>\n",
       "    </tr>\n",
       "  </thead>\n",
       "  <tbody>\n",
       "    <tr>\n",
       "      <th>0</th>\n",
       "      <td>ACEH</td>\n",
       "      <td>2021</td>\n",
       "      <td>92</td>\n",
       "    </tr>\n",
       "    <tr>\n",
       "      <th>1</th>\n",
       "      <td>SUMATERA UTARA</td>\n",
       "      <td>2021</td>\n",
       "      <td>205</td>\n",
       "    </tr>\n",
       "    <tr>\n",
       "      <th>2</th>\n",
       "      <td>SUMATERA BARAT</td>\n",
       "      <td>2021</td>\n",
       "      <td>133</td>\n",
       "    </tr>\n",
       "    <tr>\n",
       "      <th>3</th>\n",
       "      <td>RIAU</td>\n",
       "      <td>2021</td>\n",
       "      <td>75</td>\n",
       "    </tr>\n",
       "    <tr>\n",
       "      <th>4</th>\n",
       "      <td>JAMBI</td>\n",
       "      <td>2021</td>\n",
       "      <td>72</td>\n",
       "    </tr>\n",
       "  </tbody>\n",
       "</table>\n",
       "</div>"
      ],
      "text/plain": [
       "             prov  tahun kepadatan_penduduk\n",
       "0            ACEH   2021                 92\n",
       "1  SUMATERA UTARA   2021                205\n",
       "2  SUMATERA BARAT   2021                133\n",
       "3            RIAU   2021                 75\n",
       "4           JAMBI   2021                 72"
      ]
     },
     "execution_count": 6,
     "metadata": {},
     "output_type": "execute_result"
    }
   ],
   "source": [
    "dfh1.head()"
   ]
  },
  {
   "cell_type": "markdown",
   "metadata": {},
   "source": [
    "Untuk melihat persentase penduduk melek huruf di atas 15"
   ]
  },
  {
   "cell_type": "code",
   "execution_count": 7,
   "metadata": {},
   "outputs": [],
   "source": [
    "dfh2 = pd.read_csv(r\"C:\\Users\\ACER\\Documents\\UPI\\Semester3\\Data_mining_WH\\UAS\\dataset\\melek_huruf_diatas15.csv\")"
   ]
  },
  {
   "cell_type": "code",
   "execution_count": 8,
   "metadata": {},
   "outputs": [
    {
     "data": {
      "text/html": [
       "<div>\n",
       "<style scoped>\n",
       "    .dataframe tbody tr th:only-of-type {\n",
       "        vertical-align: middle;\n",
       "    }\n",
       "\n",
       "    .dataframe tbody tr th {\n",
       "        vertical-align: top;\n",
       "    }\n",
       "\n",
       "    .dataframe thead th {\n",
       "        text-align: right;\n",
       "    }\n",
       "</style>\n",
       "<table border=\"1\" class=\"dataframe\">\n",
       "  <thead>\n",
       "    <tr style=\"text-align: right;\">\n",
       "      <th></th>\n",
       "      <th>prov</th>\n",
       "      <th>tahun</th>\n",
       "      <th>melek_huruf_diatas15</th>\n",
       "    </tr>\n",
       "  </thead>\n",
       "  <tbody>\n",
       "    <tr>\n",
       "      <th>0</th>\n",
       "      <td>ACEH</td>\n",
       "      <td>2022</td>\n",
       "      <td>98.25</td>\n",
       "    </tr>\n",
       "    <tr>\n",
       "      <th>1</th>\n",
       "      <td>SUMATERA UTARA</td>\n",
       "      <td>2022</td>\n",
       "      <td>99.11</td>\n",
       "    </tr>\n",
       "    <tr>\n",
       "      <th>2</th>\n",
       "      <td>SUMATERA BARAT</td>\n",
       "      <td>2022</td>\n",
       "      <td>99.29</td>\n",
       "    </tr>\n",
       "    <tr>\n",
       "      <th>3</th>\n",
       "      <td>RIAU</td>\n",
       "      <td>2022</td>\n",
       "      <td>99.18</td>\n",
       "    </tr>\n",
       "    <tr>\n",
       "      <th>4</th>\n",
       "      <td>JAMBI</td>\n",
       "      <td>2022</td>\n",
       "      <td>98.1</td>\n",
       "    </tr>\n",
       "  </tbody>\n",
       "</table>\n",
       "</div>"
      ],
      "text/plain": [
       "             prov  tahun melek_huruf_diatas15\n",
       "0            ACEH   2022                98.25\n",
       "1  SUMATERA UTARA   2022                99.11\n",
       "2  SUMATERA BARAT   2022                99.29\n",
       "3            RIAU   2022                99.18\n",
       "4           JAMBI   2022                 98.1"
      ]
     },
     "execution_count": 8,
     "metadata": {},
     "output_type": "execute_result"
    }
   ],
   "source": [
    "dfh2.head()"
   ]
  },
  {
   "cell_type": "markdown",
   "metadata": {},
   "source": [
    "Penggabungan data kepadatan penduduk dengan data melek_huruf_diatas15"
   ]
  },
  {
   "cell_type": "code",
   "execution_count": 9,
   "metadata": {},
   "outputs": [],
   "source": [
    "dfm = pd.merge(dfh1, dfh2, how='left',on=[\"prov\", \"tahun\"]) "
   ]
  },
  {
   "cell_type": "code",
   "execution_count": 10,
   "metadata": {},
   "outputs": [
    {
     "data": {
      "text/html": [
       "<div>\n",
       "<style scoped>\n",
       "    .dataframe tbody tr th:only-of-type {\n",
       "        vertical-align: middle;\n",
       "    }\n",
       "\n",
       "    .dataframe tbody tr th {\n",
       "        vertical-align: top;\n",
       "    }\n",
       "\n",
       "    .dataframe thead th {\n",
       "        text-align: right;\n",
       "    }\n",
       "</style>\n",
       "<table border=\"1\" class=\"dataframe\">\n",
       "  <thead>\n",
       "    <tr style=\"text-align: right;\">\n",
       "      <th></th>\n",
       "      <th>prov</th>\n",
       "      <th>tahun</th>\n",
       "      <th>kepadatan_penduduk</th>\n",
       "      <th>melek_huruf_diatas15</th>\n",
       "    </tr>\n",
       "  </thead>\n",
       "  <tbody>\n",
       "    <tr>\n",
       "      <th>0</th>\n",
       "      <td>ACEH</td>\n",
       "      <td>2021</td>\n",
       "      <td>92</td>\n",
       "      <td>98.24</td>\n",
       "    </tr>\n",
       "    <tr>\n",
       "      <th>1</th>\n",
       "      <td>SUMATERA UTARA</td>\n",
       "      <td>2021</td>\n",
       "      <td>205</td>\n",
       "      <td>99.19</td>\n",
       "    </tr>\n",
       "    <tr>\n",
       "      <th>2</th>\n",
       "      <td>SUMATERA BARAT</td>\n",
       "      <td>2021</td>\n",
       "      <td>133</td>\n",
       "      <td>99.26</td>\n",
       "    </tr>\n",
       "    <tr>\n",
       "      <th>3</th>\n",
       "      <td>RIAU</td>\n",
       "      <td>2021</td>\n",
       "      <td>75</td>\n",
       "      <td>99.2</td>\n",
       "    </tr>\n",
       "    <tr>\n",
       "      <th>4</th>\n",
       "      <td>JAMBI</td>\n",
       "      <td>2021</td>\n",
       "      <td>72</td>\n",
       "      <td>98.08</td>\n",
       "    </tr>\n",
       "  </tbody>\n",
       "</table>\n",
       "</div>"
      ],
      "text/plain": [
       "             prov  tahun kepadatan_penduduk melek_huruf_diatas15\n",
       "0            ACEH   2021                 92                98.24\n",
       "1  SUMATERA UTARA   2021                205                99.19\n",
       "2  SUMATERA BARAT   2021                133                99.26\n",
       "3            RIAU   2021                 75                 99.2\n",
       "4           JAMBI   2021                 72                98.08"
      ]
     },
     "execution_count": 10,
     "metadata": {},
     "output_type": "execute_result"
    }
   ],
   "source": [
    "dfm.head(5)"
   ]
  },
  {
   "cell_type": "code",
   "execution_count": 11,
   "metadata": {},
   "outputs": [
    {
     "name": "stdout",
     "output_type": "stream",
     "text": [
      "<class 'pandas.core.frame.DataFrame'>\n",
      "Int64Index: 280 entries, 0 to 279\n",
      "Data columns (total 4 columns):\n",
      " #   Column                Non-Null Count  Dtype \n",
      "---  ------                --------------  ----- \n",
      " 0   prov                  280 non-null    object\n",
      " 1   tahun                 280 non-null    int64 \n",
      " 2   kepadatan_penduduk    280 non-null    object\n",
      " 3   melek_huruf_diatas15  210 non-null    object\n",
      "dtypes: int64(1), object(3)\n",
      "memory usage: 10.9+ KB\n"
     ]
    }
   ],
   "source": [
    "dfm.info()"
   ]
  },
  {
   "cell_type": "code",
   "execution_count": 12,
   "metadata": {},
   "outputs": [
    {
     "data": {
      "text/html": [
       "<div>\n",
       "<style scoped>\n",
       "    .dataframe tbody tr th:only-of-type {\n",
       "        vertical-align: middle;\n",
       "    }\n",
       "\n",
       "    .dataframe tbody tr th {\n",
       "        vertical-align: top;\n",
       "    }\n",
       "\n",
       "    .dataframe thead th {\n",
       "        text-align: right;\n",
       "    }\n",
       "</style>\n",
       "<table border=\"1\" class=\"dataframe\">\n",
       "  <thead>\n",
       "    <tr style=\"text-align: right;\">\n",
       "      <th></th>\n",
       "      <th>tahun</th>\n",
       "    </tr>\n",
       "  </thead>\n",
       "  <tbody>\n",
       "    <tr>\n",
       "      <th>count</th>\n",
       "      <td>280.000000</td>\n",
       "    </tr>\n",
       "    <tr>\n",
       "      <th>mean</th>\n",
       "      <td>2016.000000</td>\n",
       "    </tr>\n",
       "    <tr>\n",
       "      <th>std</th>\n",
       "      <td>3.541864</td>\n",
       "    </tr>\n",
       "    <tr>\n",
       "      <th>min</th>\n",
       "      <td>2010.000000</td>\n",
       "    </tr>\n",
       "    <tr>\n",
       "      <th>25%</th>\n",
       "      <td>2013.750000</td>\n",
       "    </tr>\n",
       "    <tr>\n",
       "      <th>50%</th>\n",
       "      <td>2015.500000</td>\n",
       "    </tr>\n",
       "    <tr>\n",
       "      <th>75%</th>\n",
       "      <td>2019.250000</td>\n",
       "    </tr>\n",
       "    <tr>\n",
       "      <th>max</th>\n",
       "      <td>2021.000000</td>\n",
       "    </tr>\n",
       "  </tbody>\n",
       "</table>\n",
       "</div>"
      ],
      "text/plain": [
       "             tahun\n",
       "count   280.000000\n",
       "mean   2016.000000\n",
       "std       3.541864\n",
       "min    2010.000000\n",
       "25%    2013.750000\n",
       "50%    2015.500000\n",
       "75%    2019.250000\n",
       "max    2021.000000"
      ]
     },
     "execution_count": 12,
     "metadata": {},
     "output_type": "execute_result"
    }
   ],
   "source": [
    "dfm.describe()"
   ]
  },
  {
   "cell_type": "code",
   "execution_count": 13,
   "metadata": {},
   "outputs": [
    {
     "data": {
      "text/plain": [
       "prov                     0\n",
       "tahun                    0\n",
       "kepadatan_penduduk       0\n",
       "melek_huruf_diatas15    70\n",
       "dtype: int64"
      ]
     },
     "execution_count": 13,
     "metadata": {},
     "output_type": "execute_result"
    }
   ],
   "source": [
    "dfm.isna().sum()"
   ]
  },
  {
   "cell_type": "code",
   "execution_count": 14,
   "metadata": {},
   "outputs": [
    {
     "data": {
      "text/plain": [
       "prov                    object\n",
       "tahun                    int64\n",
       "kepadatan_penduduk      object\n",
       "melek_huruf_diatas15    object\n",
       "dtype: object"
      ]
     },
     "execution_count": 14,
     "metadata": {},
     "output_type": "execute_result"
    }
   ],
   "source": [
    "dfm.dtypes"
   ]
  },
  {
   "cell_type": "code",
   "execution_count": 15,
   "metadata": {},
   "outputs": [],
   "source": [
    "dfh3 = pd.read_csv(r\"C:\\Users\\ACER\\Documents\\UPI\\Semester3\\Data_mining_WH\\UAS\\dataset\\persen_rumah_menyewa.csv\")"
   ]
  },
  {
   "cell_type": "code",
   "execution_count": 16,
   "metadata": {},
   "outputs": [
    {
     "data": {
      "text/html": [
       "<div>\n",
       "<style scoped>\n",
       "    .dataframe tbody tr th:only-of-type {\n",
       "        vertical-align: middle;\n",
       "    }\n",
       "\n",
       "    .dataframe tbody tr th {\n",
       "        vertical-align: top;\n",
       "    }\n",
       "\n",
       "    .dataframe thead th {\n",
       "        text-align: right;\n",
       "    }\n",
       "</style>\n",
       "<table border=\"1\" class=\"dataframe\">\n",
       "  <thead>\n",
       "    <tr style=\"text-align: right;\">\n",
       "      <th></th>\n",
       "      <th>tahun</th>\n",
       "      <th>persen_rumah_menyewa</th>\n",
       "      <th>prov</th>\n",
       "    </tr>\n",
       "  </thead>\n",
       "  <tbody>\n",
       "    <tr>\n",
       "      <th>0</th>\n",
       "      <td>2021</td>\n",
       "      <td>6.86</td>\n",
       "      <td>ACEH</td>\n",
       "    </tr>\n",
       "    <tr>\n",
       "      <th>1</th>\n",
       "      <td>2021</td>\n",
       "      <td>14.13</td>\n",
       "      <td>SUMATERA UTARA</td>\n",
       "    </tr>\n",
       "    <tr>\n",
       "      <th>2</th>\n",
       "      <td>2021</td>\n",
       "      <td>11.37</td>\n",
       "      <td>SUMATERA BARAT</td>\n",
       "    </tr>\n",
       "    <tr>\n",
       "      <th>3</th>\n",
       "      <td>2021</td>\n",
       "      <td>11.82</td>\n",
       "      <td>RIAU</td>\n",
       "    </tr>\n",
       "    <tr>\n",
       "      <th>4</th>\n",
       "      <td>2021</td>\n",
       "      <td>5.95</td>\n",
       "      <td>JAMBI</td>\n",
       "    </tr>\n",
       "  </tbody>\n",
       "</table>\n",
       "</div>"
      ],
      "text/plain": [
       "   tahun  persen_rumah_menyewa            prov\n",
       "0   2021                  6.86            ACEH\n",
       "1   2021                 14.13  SUMATERA UTARA\n",
       "2   2021                 11.37  SUMATERA BARAT\n",
       "3   2021                 11.82            RIAU\n",
       "4   2021                  5.95           JAMBI"
      ]
     },
     "execution_count": 16,
     "metadata": {},
     "output_type": "execute_result"
    }
   ],
   "source": [
    "dfh3.head()"
   ]
  },
  {
   "cell_type": "code",
   "execution_count": 17,
   "metadata": {},
   "outputs": [],
   "source": [
    "dfm2 = pd.merge(dfh3, dfm, how='left',on=[\"tahun\"]) "
   ]
  },
  {
   "cell_type": "code",
   "execution_count": 18,
   "metadata": {},
   "outputs": [
    {
     "data": {
      "text/html": [
       "<div>\n",
       "<style scoped>\n",
       "    .dataframe tbody tr th:only-of-type {\n",
       "        vertical-align: middle;\n",
       "    }\n",
       "\n",
       "    .dataframe tbody tr th {\n",
       "        vertical-align: top;\n",
       "    }\n",
       "\n",
       "    .dataframe thead th {\n",
       "        text-align: right;\n",
       "    }\n",
       "</style>\n",
       "<table border=\"1\" class=\"dataframe\">\n",
       "  <thead>\n",
       "    <tr style=\"text-align: right;\">\n",
       "      <th></th>\n",
       "      <th>tahun</th>\n",
       "      <th>persen_rumah_menyewa</th>\n",
       "      <th>prov_x</th>\n",
       "      <th>prov_y</th>\n",
       "      <th>kepadatan_penduduk</th>\n",
       "      <th>melek_huruf_diatas15</th>\n",
       "    </tr>\n",
       "  </thead>\n",
       "  <tbody>\n",
       "    <tr>\n",
       "      <th>0</th>\n",
       "      <td>2021</td>\n",
       "      <td>6.86</td>\n",
       "      <td>ACEH</td>\n",
       "      <td>ACEH</td>\n",
       "      <td>92</td>\n",
       "      <td>98.24</td>\n",
       "    </tr>\n",
       "    <tr>\n",
       "      <th>1</th>\n",
       "      <td>2021</td>\n",
       "      <td>6.86</td>\n",
       "      <td>ACEH</td>\n",
       "      <td>SUMATERA UTARA</td>\n",
       "      <td>205</td>\n",
       "      <td>99.19</td>\n",
       "    </tr>\n",
       "    <tr>\n",
       "      <th>2</th>\n",
       "      <td>2021</td>\n",
       "      <td>6.86</td>\n",
       "      <td>ACEH</td>\n",
       "      <td>SUMATERA BARAT</td>\n",
       "      <td>133</td>\n",
       "      <td>99.26</td>\n",
       "    </tr>\n",
       "    <tr>\n",
       "      <th>3</th>\n",
       "      <td>2021</td>\n",
       "      <td>6.86</td>\n",
       "      <td>ACEH</td>\n",
       "      <td>RIAU</td>\n",
       "      <td>75</td>\n",
       "      <td>99.2</td>\n",
       "    </tr>\n",
       "    <tr>\n",
       "      <th>4</th>\n",
       "      <td>2021</td>\n",
       "      <td>6.86</td>\n",
       "      <td>ACEH</td>\n",
       "      <td>JAMBI</td>\n",
       "      <td>72</td>\n",
       "      <td>98.08</td>\n",
       "    </tr>\n",
       "  </tbody>\n",
       "</table>\n",
       "</div>"
      ],
      "text/plain": [
       "   tahun  persen_rumah_menyewa prov_x          prov_y kepadatan_penduduk  \\\n",
       "0   2021                  6.86   ACEH            ACEH                 92   \n",
       "1   2021                  6.86   ACEH  SUMATERA UTARA                205   \n",
       "2   2021                  6.86   ACEH  SUMATERA BARAT                133   \n",
       "3   2021                  6.86   ACEH            RIAU                 75   \n",
       "4   2021                  6.86   ACEH           JAMBI                 72   \n",
       "\n",
       "  melek_huruf_diatas15  \n",
       "0                98.24  \n",
       "1                99.19  \n",
       "2                99.26  \n",
       "3                 99.2  \n",
       "4                98.08  "
      ]
     },
     "execution_count": 18,
     "metadata": {},
     "output_type": "execute_result"
    }
   ],
   "source": [
    "dfm2.head()"
   ]
  },
  {
   "cell_type": "code",
   "execution_count": 19,
   "metadata": {},
   "outputs": [
    {
     "data": {
      "text/plain": [
       "tahun                    0\n",
       "persen_rumah_menyewa     0\n",
       "prov_x                   0\n",
       "prov_y                  70\n",
       "kepadatan_penduduk      70\n",
       "melek_huruf_diatas15    70\n",
       "dtype: int64"
      ]
     },
     "execution_count": 19,
     "metadata": {},
     "output_type": "execute_result"
    }
   ],
   "source": [
    "dfm2.isna().sum()"
   ]
  },
  {
   "cell_type": "code",
   "execution_count": 20,
   "metadata": {},
   "outputs": [
    {
     "name": "stdout",
     "output_type": "stream",
     "text": [
      "<class 'pandas.core.frame.DataFrame'>\n",
      "Int64Index: 6195 entries, 0 to 6194\n",
      "Data columns (total 6 columns):\n",
      " #   Column                Non-Null Count  Dtype  \n",
      "---  ------                --------------  -----  \n",
      " 0   tahun                 6195 non-null   int64  \n",
      " 1   persen_rumah_menyewa  6195 non-null   float64\n",
      " 2   prov_x                6195 non-null   object \n",
      " 3   prov_y                6125 non-null   object \n",
      " 4   kepadatan_penduduk    6125 non-null   object \n",
      " 5   melek_huruf_diatas15  6125 non-null   object \n",
      "dtypes: float64(1), int64(1), object(4)\n",
      "memory usage: 338.8+ KB\n"
     ]
    }
   ],
   "source": [
    "dfm2.info()"
   ]
  },
  {
   "cell_type": "code",
   "execution_count": 21,
   "metadata": {},
   "outputs": [
    {
     "data": {
      "text/plain": [
       "<AxesSubplot:xlabel='tahun', ylabel='count'>"
      ]
     },
     "execution_count": 21,
     "metadata": {},
     "output_type": "execute_result"
    },
    {
     "data": {
      "image/png": "[encoded data removed]",
      "text/plain": [
       "<Figure size 640x480 with 1 Axes>"
      ]
     },
     "metadata": {},
     "output_type": "display_data"
    }
   ],
   "source": [
    "sns.countplot(x=\"tahun\", data=dfm2)"
   ]
  },
  {
   "cell_type": "code",
   "execution_count": 22,
   "metadata": {},
   "outputs": [
    {
     "data": {
      "text/html": [
       "<div>\n",
       "<style scoped>\n",
       "    .dataframe tbody tr th:only-of-type {\n",
       "        vertical-align: middle;\n",
       "    }\n",
       "\n",
       "    .dataframe tbody tr th {\n",
       "        vertical-align: top;\n",
       "    }\n",
       "\n",
       "    .dataframe thead th {\n",
       "        text-align: right;\n",
       "    }\n",
       "</style>\n",
       "<table border=\"1\" class=\"dataframe\">\n",
       "  <thead>\n",
       "    <tr style=\"text-align: right;\">\n",
       "      <th></th>\n",
       "      <th>kepadatan_penduduk</th>\n",
       "      <th>melek_huruf_diatas15</th>\n",
       "    </tr>\n",
       "  </thead>\n",
       "  <tbody>\n",
       "    <tr>\n",
       "      <th>count</th>\n",
       "      <td>6125</td>\n",
       "      <td>6125</td>\n",
       "    </tr>\n",
       "    <tr>\n",
       "      <th>unique</th>\n",
       "      <td>131</td>\n",
       "      <td>144</td>\n",
       "    </tr>\n",
       "    <tr>\n",
       "      <th>top</th>\n",
       "      <td>9</td>\n",
       "      <td>98.01</td>\n",
       "    </tr>\n",
       "    <tr>\n",
       "      <th>freq</th>\n",
       "      <td>245</td>\n",
       "      <td>140</td>\n",
       "    </tr>\n",
       "  </tbody>\n",
       "</table>\n",
       "</div>"
      ],
      "text/plain": [
       "       kepadatan_penduduk melek_huruf_diatas15\n",
       "count                6125                 6125\n",
       "unique                131                  144\n",
       "top                     9                98.01\n",
       "freq                  245                  140"
      ]
     },
     "execution_count": 22,
     "metadata": {},
     "output_type": "execute_result"
    }
   ],
   "source": [
    "dfm2[['kepadatan_penduduk','melek_huruf_diatas15']].describe()\n"
   ]
  },
  {
   "cell_type": "markdown",
   "metadata": {},
   "source": [
    "import dataset persen penduduk trampil tik"
   ]
  },
  {
   "cell_type": "code",
   "execution_count": 23,
   "metadata": {},
   "outputs": [],
   "source": [
    "dfh4 = pd.read_csv(r\"C:\\Users\\ACER\\Documents\\UPI\\Semester3\\Data_mining_WH\\UAS\\dataset\\persen_penduduk_trampil_tik.csv\")"
   ]
  },
  {
   "cell_type": "code",
   "execution_count": 24,
   "metadata": {},
   "outputs": [
    {
     "data": {
      "text/plain": [
       "tahun                          0\n",
       "persen_penduduk_trampil_tik    0\n",
       "prov                           0\n",
       "dtype: int64"
      ]
     },
     "execution_count": 24,
     "metadata": {},
     "output_type": "execute_result"
    }
   ],
   "source": [
    "dfh4.isna().sum()"
   ]
  },
  {
   "cell_type": "code",
   "execution_count": 25,
   "metadata": {},
   "outputs": [],
   "source": [
    "dfm3 = pd.merge(dfh4, dfm2, how='left',on=[\"tahun\"]) "
   ]
  },
  {
   "cell_type": "code",
   "execution_count": 26,
   "metadata": {},
   "outputs": [
    {
     "data": {
      "text/html": [
       "<div>\n",
       "<style scoped>\n",
       "    .dataframe tbody tr th:only-of-type {\n",
       "        vertical-align: middle;\n",
       "    }\n",
       "\n",
       "    .dataframe tbody tr th {\n",
       "        vertical-align: top;\n",
       "    }\n",
       "\n",
       "    .dataframe thead th {\n",
       "        text-align: right;\n",
       "    }\n",
       "</style>\n",
       "<table border=\"1\" class=\"dataframe\">\n",
       "  <thead>\n",
       "    <tr style=\"text-align: right;\">\n",
       "      <th></th>\n",
       "      <th>tahun</th>\n",
       "      <th>persen_penduduk_trampil_tik</th>\n",
       "      <th>prov</th>\n",
       "      <th>persen_rumah_menyewa</th>\n",
       "      <th>prov_x</th>\n",
       "      <th>prov_y</th>\n",
       "      <th>kepadatan_penduduk</th>\n",
       "      <th>melek_huruf_diatas15</th>\n",
       "    </tr>\n",
       "  </thead>\n",
       "  <tbody>\n",
       "    <tr>\n",
       "      <th>0</th>\n",
       "      <td>2021</td>\n",
       "      <td>60.21</td>\n",
       "      <td>ACEH</td>\n",
       "      <td>6.86</td>\n",
       "      <td>ACEH</td>\n",
       "      <td>ACEH</td>\n",
       "      <td>92</td>\n",
       "      <td>98.24</td>\n",
       "    </tr>\n",
       "    <tr>\n",
       "      <th>1</th>\n",
       "      <td>2021</td>\n",
       "      <td>60.21</td>\n",
       "      <td>ACEH</td>\n",
       "      <td>6.86</td>\n",
       "      <td>ACEH</td>\n",
       "      <td>SUMATERA UTARA</td>\n",
       "      <td>205</td>\n",
       "      <td>99.19</td>\n",
       "    </tr>\n",
       "    <tr>\n",
       "      <th>2</th>\n",
       "      <td>2021</td>\n",
       "      <td>60.21</td>\n",
       "      <td>ACEH</td>\n",
       "      <td>6.86</td>\n",
       "      <td>ACEH</td>\n",
       "      <td>SUMATERA BARAT</td>\n",
       "      <td>133</td>\n",
       "      <td>99.26</td>\n",
       "    </tr>\n",
       "    <tr>\n",
       "      <th>3</th>\n",
       "      <td>2021</td>\n",
       "      <td>60.21</td>\n",
       "      <td>ACEH</td>\n",
       "      <td>6.86</td>\n",
       "      <td>ACEH</td>\n",
       "      <td>RIAU</td>\n",
       "      <td>75</td>\n",
       "      <td>99.2</td>\n",
       "    </tr>\n",
       "    <tr>\n",
       "      <th>4</th>\n",
       "      <td>2021</td>\n",
       "      <td>60.21</td>\n",
       "      <td>ACEH</td>\n",
       "      <td>6.86</td>\n",
       "      <td>ACEH</td>\n",
       "      <td>JAMBI</td>\n",
       "      <td>72</td>\n",
       "      <td>98.08</td>\n",
       "    </tr>\n",
       "  </tbody>\n",
       "</table>\n",
       "</div>"
      ],
      "text/plain": [
       "   tahun  persen_penduduk_trampil_tik  prov  persen_rumah_menyewa prov_x  \\\n",
       "0   2021                        60.21  ACEH                  6.86   ACEH   \n",
       "1   2021                        60.21  ACEH                  6.86   ACEH   \n",
       "2   2021                        60.21  ACEH                  6.86   ACEH   \n",
       "3   2021                        60.21  ACEH                  6.86   ACEH   \n",
       "4   2021                        60.21  ACEH                  6.86   ACEH   \n",
       "\n",
       "           prov_y kepadatan_penduduk melek_huruf_diatas15  \n",
       "0            ACEH                 92                98.24  \n",
       "1  SUMATERA UTARA                205                99.19  \n",
       "2  SUMATERA BARAT                133                99.26  \n",
       "3            RIAU                 75                 99.2  \n",
       "4           JAMBI                 72                98.08  "
      ]
     },
     "execution_count": 26,
     "metadata": {},
     "output_type": "execute_result"
    }
   ],
   "source": [
    "dfm3.head()"
   ]
  },
  {
   "cell_type": "markdown",
   "metadata": {},
   "source": [
    "Isi nilai null / kosong dengan median"
   ]
  },
  {
   "cell_type": "code",
   "execution_count": 27,
   "metadata": {},
   "outputs": [],
   "source": [
    "dfm3['kepadatan_penduduk'] = dfm3['kepadatan_penduduk'].fillna(dfm3['kepadatan_penduduk'].median())\n",
    "dfm3['melek_huruf_diatas15'] = dfm3['melek_huruf_diatas15'].fillna(dfm3['melek_huruf_diatas15'].median())"
   ]
  },
  {
   "cell_type": "markdown",
   "metadata": {},
   "source": [
    "Drop kolom prov yang merupakan anomali"
   ]
  },
  {
   "cell_type": "code",
   "execution_count": 28,
   "metadata": {},
   "outputs": [],
   "source": [
    "dfm3 = dfm3.drop(['prov'],axis=1)"
   ]
  },
  {
   "cell_type": "code",
   "execution_count": 29,
   "metadata": {},
   "outputs": [
    {
     "data": {
      "text/html": [
       "<div>\n",
       "<style scoped>\n",
       "    .dataframe tbody tr th:only-of-type {\n",
       "        vertical-align: middle;\n",
       "    }\n",
       "\n",
       "    .dataframe tbody tr th {\n",
       "        vertical-align: top;\n",
       "    }\n",
       "\n",
       "    .dataframe thead th {\n",
       "        text-align: right;\n",
       "    }\n",
       "</style>\n",
       "<table border=\"1\" class=\"dataframe\">\n",
       "  <thead>\n",
       "    <tr style=\"text-align: right;\">\n",
       "      <th></th>\n",
       "      <th>tahun</th>\n",
       "      <th>persen_penduduk_trampil_tik</th>\n",
       "      <th>persen_rumah_menyewa</th>\n",
       "      <th>prov_x</th>\n",
       "      <th>prov_y</th>\n",
       "      <th>kepadatan_penduduk</th>\n",
       "      <th>melek_huruf_diatas15</th>\n",
       "    </tr>\n",
       "  </thead>\n",
       "  <tbody>\n",
       "    <tr>\n",
       "      <th>0</th>\n",
       "      <td>2021</td>\n",
       "      <td>60.21</td>\n",
       "      <td>6.86</td>\n",
       "      <td>ACEH</td>\n",
       "      <td>ACEH</td>\n",
       "      <td>92</td>\n",
       "      <td>98.24</td>\n",
       "    </tr>\n",
       "    <tr>\n",
       "      <th>1</th>\n",
       "      <td>2021</td>\n",
       "      <td>60.21</td>\n",
       "      <td>6.86</td>\n",
       "      <td>ACEH</td>\n",
       "      <td>SUMATERA UTARA</td>\n",
       "      <td>205</td>\n",
       "      <td>99.19</td>\n",
       "    </tr>\n",
       "    <tr>\n",
       "      <th>2</th>\n",
       "      <td>2021</td>\n",
       "      <td>60.21</td>\n",
       "      <td>6.86</td>\n",
       "      <td>ACEH</td>\n",
       "      <td>SUMATERA BARAT</td>\n",
       "      <td>133</td>\n",
       "      <td>99.26</td>\n",
       "    </tr>\n",
       "    <tr>\n",
       "      <th>3</th>\n",
       "      <td>2021</td>\n",
       "      <td>60.21</td>\n",
       "      <td>6.86</td>\n",
       "      <td>ACEH</td>\n",
       "      <td>RIAU</td>\n",
       "      <td>75</td>\n",
       "      <td>99.2</td>\n",
       "    </tr>\n",
       "    <tr>\n",
       "      <th>4</th>\n",
       "      <td>2021</td>\n",
       "      <td>60.21</td>\n",
       "      <td>6.86</td>\n",
       "      <td>ACEH</td>\n",
       "      <td>JAMBI</td>\n",
       "      <td>72</td>\n",
       "      <td>98.08</td>\n",
       "    </tr>\n",
       "  </tbody>\n",
       "</table>\n",
       "</div>"
      ],
      "text/plain": [
       "   tahun  persen_penduduk_trampil_tik  persen_rumah_menyewa prov_x  \\\n",
       "0   2021                        60.21                  6.86   ACEH   \n",
       "1   2021                        60.21                  6.86   ACEH   \n",
       "2   2021                        60.21                  6.86   ACEH   \n",
       "3   2021                        60.21                  6.86   ACEH   \n",
       "4   2021                        60.21                  6.86   ACEH   \n",
       "\n",
       "           prov_y kepadatan_penduduk melek_huruf_diatas15  \n",
       "0            ACEH                 92                98.24  \n",
       "1  SUMATERA UTARA                205                99.19  \n",
       "2  SUMATERA BARAT                133                99.26  \n",
       "3            RIAU                 75                 99.2  \n",
       "4           JAMBI                 72                98.08  "
      ]
     },
     "execution_count": 29,
     "metadata": {},
     "output_type": "execute_result"
    }
   ],
   "source": [
    "dfm3.head()"
   ]
  },
  {
   "cell_type": "code",
   "execution_count": 30,
   "metadata": {},
   "outputs": [],
   "source": [
    "df_final = pd.merge(dfm3, df, how='left',on=[\"tahun\"]) "
   ]
  },
  {
   "cell_type": "code",
   "execution_count": 31,
   "metadata": {},
   "outputs": [
    {
     "data": {
      "text/html": [
       "<div>\n",
       "<style scoped>\n",
       "    .dataframe tbody tr th:only-of-type {\n",
       "        vertical-align: middle;\n",
       "    }\n",
       "\n",
       "    .dataframe tbody tr th {\n",
       "        vertical-align: top;\n",
       "    }\n",
       "\n",
       "    .dataframe thead th {\n",
       "        text-align: right;\n",
       "    }\n",
       "</style>\n",
       "<table border=\"1\" class=\"dataframe\">\n",
       "  <thead>\n",
       "    <tr style=\"text-align: right;\">\n",
       "      <th></th>\n",
       "      <th>tahun</th>\n",
       "      <th>persen_penduduk_trampil_tik</th>\n",
       "      <th>persen_rumah_menyewa</th>\n",
       "      <th>prov_x</th>\n",
       "      <th>prov_y</th>\n",
       "      <th>kepadatan_penduduk</th>\n",
       "      <th>melek_huruf_diatas15</th>\n",
       "      <th>prov</th>\n",
       "      <th>kategori_pmi</th>\n",
       "    </tr>\n",
       "  </thead>\n",
       "  <tbody>\n",
       "    <tr>\n",
       "      <th>0</th>\n",
       "      <td>2021</td>\n",
       "      <td>60.21</td>\n",
       "      <td>6.86</td>\n",
       "      <td>ACEH</td>\n",
       "      <td>ACEH</td>\n",
       "      <td>92</td>\n",
       "      <td>98.24</td>\n",
       "      <td>ACEH</td>\n",
       "      <td>TINGGI</td>\n",
       "    </tr>\n",
       "    <tr>\n",
       "      <th>1</th>\n",
       "      <td>2021</td>\n",
       "      <td>60.21</td>\n",
       "      <td>6.86</td>\n",
       "      <td>ACEH</td>\n",
       "      <td>ACEH</td>\n",
       "      <td>92</td>\n",
       "      <td>98.24</td>\n",
       "      <td>SUMATERA UTARA</td>\n",
       "      <td>TINGGI</td>\n",
       "    </tr>\n",
       "    <tr>\n",
       "      <th>2</th>\n",
       "      <td>2021</td>\n",
       "      <td>60.21</td>\n",
       "      <td>6.86</td>\n",
       "      <td>ACEH</td>\n",
       "      <td>ACEH</td>\n",
       "      <td>92</td>\n",
       "      <td>98.24</td>\n",
       "      <td>SUMATERA BARAT</td>\n",
       "      <td>TINGGI</td>\n",
       "    </tr>\n",
       "    <tr>\n",
       "      <th>3</th>\n",
       "      <td>2021</td>\n",
       "      <td>60.21</td>\n",
       "      <td>6.86</td>\n",
       "      <td>ACEH</td>\n",
       "      <td>ACEH</td>\n",
       "      <td>92</td>\n",
       "      <td>98.24</td>\n",
       "      <td>RIAU</td>\n",
       "      <td>TINGGI</td>\n",
       "    </tr>\n",
       "    <tr>\n",
       "      <th>4</th>\n",
       "      <td>2021</td>\n",
       "      <td>60.21</td>\n",
       "      <td>6.86</td>\n",
       "      <td>ACEH</td>\n",
       "      <td>ACEH</td>\n",
       "      <td>92</td>\n",
       "      <td>98.24</td>\n",
       "      <td>JAMBI</td>\n",
       "      <td>TINGGI</td>\n",
       "    </tr>\n",
       "  </tbody>\n",
       "</table>\n",
       "</div>"
      ],
      "text/plain": [
       "   tahun  persen_penduduk_trampil_tik  persen_rumah_menyewa prov_x prov_y  \\\n",
       "0   2021                        60.21                  6.86   ACEH   ACEH   \n",
       "1   2021                        60.21                  6.86   ACEH   ACEH   \n",
       "2   2021                        60.21                  6.86   ACEH   ACEH   \n",
       "3   2021                        60.21                  6.86   ACEH   ACEH   \n",
       "4   2021                        60.21                  6.86   ACEH   ACEH   \n",
       "\n",
       "  kepadatan_penduduk melek_huruf_diatas15            prov kategori_pmi  \n",
       "0                 92                98.24            ACEH       TINGGI  \n",
       "1                 92                98.24  SUMATERA UTARA       TINGGI  \n",
       "2                 92                98.24  SUMATERA BARAT       TINGGI  \n",
       "3                 92                98.24            RIAU       TINGGI  \n",
       "4                 92                98.24           JAMBI       TINGGI  "
      ]
     },
     "execution_count": 31,
     "metadata": {},
     "output_type": "execute_result"
    }
   ],
   "source": [
    "df_final.head()"
   ]
  },
  {
   "cell_type": "code",
   "execution_count": 32,
   "metadata": {},
   "outputs": [
    {
     "data": {
      "text/plain": [
       "<AxesSubplot:xlabel='tahun', ylabel='count'>"
      ]
     },
     "execution_count": 32,
     "metadata": {},
     "output_type": "execute_result"
    },
    {
     "data": {
      "image/png": "[encoded data removed]",
      "text/plain": [
       "<Figure size 1000x500 with 1 Axes>"
      ]
     },
     "metadata": {},
     "output_type": "display_data"
    }
   ],
   "source": [
    "fig, ax = plt.subplots(figsize=(10, 5)) # atur ukuran chart\n",
    "sns.countplot(ax=ax, x=\"tahun\", hue=\"kategori_pmi\", data=df_final)"
   ]
  },
  {
   "cell_type": "markdown",
   "metadata": {},
   "source": [
    "Melihat persentase pmi di tiap tahunnya"
   ]
  },
  {
   "cell_type": "code",
   "execution_count": 33,
   "metadata": {},
   "outputs": [
    {
     "name": "stdout",
     "output_type": "stream",
     "text": [
      "<class 'pandas.core.frame.DataFrame'>\n",
      "Int64Index: 7372050 entries, 0 to 7372049\n",
      "Data columns (total 9 columns):\n",
      " #   Column                       Dtype  \n",
      "---  ------                       -----  \n",
      " 0   tahun                        int64  \n",
      " 1   persen_penduduk_trampil_tik  float64\n",
      " 2   persen_rumah_menyewa         float64\n",
      " 3   prov_x                       object \n",
      " 4   prov_y                       object \n",
      " 5   kepadatan_penduduk           object \n",
      " 6   melek_huruf_diatas15         object \n",
      " 7   prov                         object \n",
      " 8   kategori_pmi                 object \n",
      "dtypes: float64(2), int64(1), object(6)\n",
      "memory usage: 562.4+ MB\n"
     ]
    }
   ],
   "source": [
    "# df_final = df_final.drop(['prov_y'],axis=1\n",
    "df_final.info()"
   ]
  },
  {
   "cell_type": "code",
   "execution_count": 34,
   "metadata": {},
   "outputs": [],
   "source": [
    "df_final['kategori_pmi'] = df_final['kategori_pmi'].astype(\"category\")\n",
    "df_final['prov'] = df_final['prov'].astype(\"category\")\n",
    "df_final['tahun'] = df_final['tahun'].astype(\"category\")"
   ]
  },
  {
   "cell_type": "code",
   "execution_count": 35,
   "metadata": {},
   "outputs": [
    {
     "data": {
      "text/plain": [
       "tahun                              0\n",
       "persen_penduduk_trampil_tik        0\n",
       "persen_rumah_menyewa               0\n",
       "prov_x                             0\n",
       "prov_y                         83300\n",
       "kepadatan_penduduk                 0\n",
       "melek_huruf_diatas15               0\n",
       "prov                               0\n",
       "kategori_pmi                       0\n",
       "dtype: int64"
      ]
     },
     "execution_count": 35,
     "metadata": {},
     "output_type": "execute_result"
    }
   ],
   "source": [
    "df_final.isna().sum()"
   ]
  },
  {
   "cell_type": "code",
   "execution_count": 36,
   "metadata": {},
   "outputs": [],
   "source": [
    "df_final2 = df_final.copy()"
   ]
  },
  {
   "cell_type": "code",
   "execution_count": 37,
   "metadata": {},
   "outputs": [],
   "source": [
    "df_final2['kepadatan_penduduk'] = df_final2['kepadatan_penduduk'].fillna(df_final2['kepadatan_penduduk'].median())\n",
    "df_final2['melek_huruf_diatas15'] = df_final2['melek_huruf_diatas15'].fillna(df_final2['melek_huruf_diatas15'].median())"
   ]
  },
  {
   "cell_type": "code",
   "execution_count": 38,
   "metadata": {},
   "outputs": [
    {
     "data": {
      "text/plain": [
       "tahun                              0\n",
       "persen_penduduk_trampil_tik        0\n",
       "persen_rumah_menyewa               0\n",
       "prov_x                             0\n",
       "prov_y                         83300\n",
       "kepadatan_penduduk                 0\n",
       "melek_huruf_diatas15               0\n",
       "prov                               0\n",
       "kategori_pmi                       0\n",
       "dtype: int64"
      ]
     },
     "execution_count": 38,
     "metadata": {},
     "output_type": "execute_result"
    }
   ],
   "source": [
    "df_final2.isna().sum()"
   ]
  },
  {
   "cell_type": "markdown",
   "metadata": {},
   "source": [
    "Penghapusan kolom tahun dengan prov"
   ]
  },
  {
   "cell_type": "code",
   "execution_count": 39,
   "metadata": {},
   "outputs": [],
   "source": [
    "df_final2 = df_final2.drop(['tahun', 'prov', 'prov_x', 'prov_y'],axis=1)"
   ]
  },
  {
   "cell_type": "code",
   "execution_count": 40,
   "metadata": {},
   "outputs": [
    {
     "data": {
      "text/html": [
       "<div>\n",
       "<style scoped>\n",
       "    .dataframe tbody tr th:only-of-type {\n",
       "        vertical-align: middle;\n",
       "    }\n",
       "\n",
       "    .dataframe tbody tr th {\n",
       "        vertical-align: top;\n",
       "    }\n",
       "\n",
       "    .dataframe thead th {\n",
       "        text-align: right;\n",
       "    }\n",
       "</style>\n",
       "<table border=\"1\" class=\"dataframe\">\n",
       "  <thead>\n",
       "    <tr style=\"text-align: right;\">\n",
       "      <th></th>\n",
       "      <th>persen_penduduk_trampil_tik</th>\n",
       "      <th>persen_rumah_menyewa</th>\n",
       "      <th>kepadatan_penduduk</th>\n",
       "      <th>melek_huruf_diatas15</th>\n",
       "      <th>kategori_pmi</th>\n",
       "    </tr>\n",
       "  </thead>\n",
       "  <tbody>\n",
       "    <tr>\n",
       "      <th>0</th>\n",
       "      <td>60.21</td>\n",
       "      <td>6.86</td>\n",
       "      <td>92</td>\n",
       "      <td>98.24</td>\n",
       "      <td>TINGGI</td>\n",
       "    </tr>\n",
       "    <tr>\n",
       "      <th>1</th>\n",
       "      <td>60.21</td>\n",
       "      <td>6.86</td>\n",
       "      <td>92</td>\n",
       "      <td>98.24</td>\n",
       "      <td>TINGGI</td>\n",
       "    </tr>\n",
       "    <tr>\n",
       "      <th>2</th>\n",
       "      <td>60.21</td>\n",
       "      <td>6.86</td>\n",
       "      <td>92</td>\n",
       "      <td>98.24</td>\n",
       "      <td>TINGGI</td>\n",
       "    </tr>\n",
       "    <tr>\n",
       "      <th>3</th>\n",
       "      <td>60.21</td>\n",
       "      <td>6.86</td>\n",
       "      <td>92</td>\n",
       "      <td>98.24</td>\n",
       "      <td>TINGGI</td>\n",
       "    </tr>\n",
       "    <tr>\n",
       "      <th>4</th>\n",
       "      <td>60.21</td>\n",
       "      <td>6.86</td>\n",
       "      <td>92</td>\n",
       "      <td>98.24</td>\n",
       "      <td>TINGGI</td>\n",
       "    </tr>\n",
       "  </tbody>\n",
       "</table>\n",
       "</div>"
      ],
      "text/plain": [
       "   persen_penduduk_trampil_tik  persen_rumah_menyewa kepadatan_penduduk  \\\n",
       "0                        60.21                  6.86                 92   \n",
       "1                        60.21                  6.86                 92   \n",
       "2                        60.21                  6.86                 92   \n",
       "3                        60.21                  6.86                 92   \n",
       "4                        60.21                  6.86                 92   \n",
       "\n",
       "  melek_huruf_diatas15 kategori_pmi  \n",
       "0                98.24       TINGGI  \n",
       "1                98.24       TINGGI  \n",
       "2                98.24       TINGGI  \n",
       "3                98.24       TINGGI  \n",
       "4                98.24       TINGGI  "
      ]
     },
     "execution_count": 40,
     "metadata": {},
     "output_type": "execute_result"
    }
   ],
   "source": [
    "df_final2.head()"
   ]
  },
  {
   "cell_type": "code",
   "execution_count": 41,
   "metadata": {},
   "outputs": [
    {
     "data": {
      "text/plain": [
       "persen_penduduk_trampil_tik    0\n",
       "persen_rumah_menyewa           0\n",
       "kepadatan_penduduk             0\n",
       "melek_huruf_diatas15           0\n",
       "kategori_pmi                   0\n",
       "dtype: int64"
      ]
     },
     "execution_count": 41,
     "metadata": {},
     "output_type": "execute_result"
    }
   ],
   "source": [
    "df_final2.isna().sum()"
   ]
  },
  {
   "cell_type": "code",
   "execution_count": 43,
   "metadata": {},
   "outputs": [
    {
     "data": {
      "text/html": [
       "<div>\n",
       "<style scoped>\n",
       "    .dataframe tbody tr th:only-of-type {\n",
       "        vertical-align: middle;\n",
       "    }\n",
       "\n",
       "    .dataframe tbody tr th {\n",
       "        vertical-align: top;\n",
       "    }\n",
       "\n",
       "    .dataframe thead th {\n",
       "        text-align: right;\n",
       "    }\n",
       "</style>\n",
       "<table border=\"1\" class=\"dataframe\">\n",
       "  <thead>\n",
       "    <tr style=\"text-align: right;\">\n",
       "      <th></th>\n",
       "      <th>persen_penduduk_trampil_tik</th>\n",
       "      <th>persen_rumah_menyewa</th>\n",
       "      <th>kepadatan_penduduk</th>\n",
       "      <th>melek_huruf_diatas15</th>\n",
       "      <th>kategori_pmi</th>\n",
       "    </tr>\n",
       "  </thead>\n",
       "  <tbody>\n",
       "    <tr>\n",
       "      <th>0</th>\n",
       "      <td>60.21</td>\n",
       "      <td>6.86</td>\n",
       "      <td>92</td>\n",
       "      <td>98.24</td>\n",
       "      <td>TINGGI</td>\n",
       "    </tr>\n",
       "    <tr>\n",
       "      <th>1</th>\n",
       "      <td>60.21</td>\n",
       "      <td>6.86</td>\n",
       "      <td>92</td>\n",
       "      <td>98.24</td>\n",
       "      <td>TINGGI</td>\n",
       "    </tr>\n",
       "    <tr>\n",
       "      <th>2</th>\n",
       "      <td>60.21</td>\n",
       "      <td>6.86</td>\n",
       "      <td>92</td>\n",
       "      <td>98.24</td>\n",
       "      <td>TINGGI</td>\n",
       "    </tr>\n",
       "    <tr>\n",
       "      <th>3</th>\n",
       "      <td>60.21</td>\n",
       "      <td>6.86</td>\n",
       "      <td>92</td>\n",
       "      <td>98.24</td>\n",
       "      <td>TINGGI</td>\n",
       "    </tr>\n",
       "    <tr>\n",
       "      <th>4</th>\n",
       "      <td>60.21</td>\n",
       "      <td>6.86</td>\n",
       "      <td>92</td>\n",
       "      <td>98.24</td>\n",
       "      <td>TINGGI</td>\n",
       "    </tr>\n",
       "  </tbody>\n",
       "</table>\n",
       "</div>"
      ],
      "text/plain": [
       "   persen_penduduk_trampil_tik  persen_rumah_menyewa kepadatan_penduduk  \\\n",
       "0                        60.21                  6.86                 92   \n",
       "1                        60.21                  6.86                 92   \n",
       "2                        60.21                  6.86                 92   \n",
       "3                        60.21                  6.86                 92   \n",
       "4                        60.21                  6.86                 92   \n",
       "\n",
       "  melek_huruf_diatas15 kategori_pmi  \n",
       "0                98.24       TINGGI  \n",
       "1                98.24       TINGGI  \n",
       "2                98.24       TINGGI  \n",
       "3                98.24       TINGGI  \n",
       "4                98.24       TINGGI  "
      ]
     },
     "execution_count": 43,
     "metadata": {},
     "output_type": "execute_result"
    }
   ],
   "source": [
    "df_final2.head()"
   ]
  },
  {
   "cell_type": "markdown",
   "metadata": {},
   "source": [
    "# Kelas target"
   ]
  },
  {
   "cell_type": "code",
   "execution_count": 46,
   "metadata": {},
   "outputs": [],
   "source": [
    "from sklearn import preprocessing\n",
    "le = preprocessing.LabelEncoder()\n",
    "le.fit(df_final2.kategori_pmi)\n",
    "Y = le.transform(df_final2.kategori_pmi) \n",
    "X = df_final2.drop(\"kategori_pmi\",axis=1)"
   ]
  },
  {
   "cell_type": "code",
   "execution_count": 48,
   "metadata": {},
   "outputs": [],
   "source": [
    "from sklearn.model_selection import train_test_split\n",
    "X_train,X_test,Y_train,Y_test=train_test_split(X,Y,test_size=0.2,random_state=123)"
   ]
  },
  {
   "cell_type": "markdown",
   "metadata": {},
   "source": [
    "Lakukan Learning dengan Naive Bayes"
   ]
  },
  {
   "cell_type": "code",
   "execution_count": 49,
   "metadata": {},
   "outputs": [
    {
     "name": "stdout",
     "output_type": "stream",
     "text": [
      "Akurasi 0.6203722166832835\n"
     ]
    },
    {
     "name": "stderr",
     "output_type": "stream",
     "text": [
      "C:\\Users\\ACER\\anaconda3\\lib\\site-packages\\sklearn\\metrics\\_classification.py:1318: UndefinedMetricWarning: Precision and F-score are ill-defined and being set to 0.0 in labels with no predicted samples. Use `zero_division` parameter to control this behavior.\n",
      "  _warn_prf(average, modifier, msg_start, len(result))\n",
      "C:\\Users\\ACER\\anaconda3\\lib\\site-packages\\sklearn\\metrics\\_classification.py:1318: UndefinedMetricWarning: Precision and F-score are ill-defined and being set to 0.0 in labels with no predicted samples. Use `zero_division` parameter to control this behavior.\n",
      "  _warn_prf(average, modifier, msg_start, len(result))\n"
     ]
    },
    {
     "name": "stdout",
     "output_type": "stream",
     "text": [
      "              precision    recall  f1-score   support\n",
      "\n",
      "           0       0.00      0.00      0.00     17439\n",
      "           1       0.00      0.00      0.00     34589\n",
      "           2       0.63      0.56      0.59    685678\n",
      "           3       0.61      0.72      0.66    736704\n",
      "\n",
      "    accuracy                           0.62   1474410\n",
      "   macro avg       0.31      0.32      0.31   1474410\n",
      "weighted avg       0.60      0.62      0.61   1474410\n",
      "\n"
     ]
    },
    {
     "name": "stderr",
     "output_type": "stream",
     "text": [
      "C:\\Users\\ACER\\anaconda3\\lib\\site-packages\\sklearn\\metrics\\_classification.py:1318: UndefinedMetricWarning: Precision and F-score are ill-defined and being set to 0.0 in labels with no predicted samples. Use `zero_division` parameter to control this behavior.\n",
      "  _warn_prf(average, modifier, msg_start, len(result))\n"
     ]
    }
   ],
   "source": [
    "from sklearn.naive_bayes import GaussianNB\n",
    "from sklearn.metrics import classification_report\n",
    "from sklearn.metrics import accuracy_score\n",
    "clf = GaussianNB()\n",
    "clf.fit(X_train, Y_train)\n",
    "Y_pred = clf.predict(X_test)\n",
    "acc = accuracy_score(Y_test, Y_pred)\n",
    "print(\"Akurasi {}\".format(acc))\n",
    "print(classification_report(Y_test, Y_pred))\n"
   ]
  },
  {
   "cell_type": "markdown",
   "metadata": {},
   "source": [
    "DECISION TREE"
   ]
  },
  {
   "cell_type": "code",
   "execution_count": 50,
   "metadata": {},
   "outputs": [
    {
     "name": "stdout",
     "output_type": "stream",
     "text": [
      "Akurasi 0.6512367658927978\n"
     ]
    },
    {
     "name": "stderr",
     "output_type": "stream",
     "text": [
      "C:\\Users\\ACER\\anaconda3\\lib\\site-packages\\sklearn\\metrics\\_classification.py:1318: UndefinedMetricWarning: Precision and F-score are ill-defined and being set to 0.0 in labels with no predicted samples. Use `zero_division` parameter to control this behavior.\n",
      "  _warn_prf(average, modifier, msg_start, len(result))\n",
      "C:\\Users\\ACER\\anaconda3\\lib\\site-packages\\sklearn\\metrics\\_classification.py:1318: UndefinedMetricWarning: Precision and F-score are ill-defined and being set to 0.0 in labels with no predicted samples. Use `zero_division` parameter to control this behavior.\n",
      "  _warn_prf(average, modifier, msg_start, len(result))\n"
     ]
    },
    {
     "name": "stdout",
     "output_type": "stream",
     "text": [
      "              precision    recall  f1-score   support\n",
      "\n",
      "           0       0.00      0.00      0.00     17439\n",
      "           1       0.00      0.00      0.00     34589\n",
      "           2       0.67      0.58      0.62    685678\n",
      "           3       0.64      0.76      0.69    736704\n",
      "\n",
      "    accuracy                           0.65   1474410\n",
      "   macro avg       0.33      0.34      0.33   1474410\n",
      "weighted avg       0.63      0.65      0.64   1474410\n",
      "\n"
     ]
    },
    {
     "name": "stderr",
     "output_type": "stream",
     "text": [
      "C:\\Users\\ACER\\anaconda3\\lib\\site-packages\\sklearn\\metrics\\_classification.py:1318: UndefinedMetricWarning: Precision and F-score are ill-defined and being set to 0.0 in labels with no predicted samples. Use `zero_division` parameter to control this behavior.\n",
      "  _warn_prf(average, modifier, msg_start, len(result))\n"
     ]
    }
   ],
   "source": [
    "from sklearn import tree\n",
    "clf = tree.DecisionTreeClassifier()\n",
    "clf.fit(X_train, Y_train)\n",
    "Y_pred = clf.predict(X_test)\n",
    "acc = accuracy_score(Y_test, Y_pred)\n",
    "print(\"Akurasi {}\".format(acc))\n",
    "print(classification_report(Y_test, Y_pred))\n"
   ]
  },
  {
   "cell_type": "markdown",
   "metadata": {},
   "source": [
    "RANDOM FOREST"
   ]
  },
  {
   "cell_type": "code",
   "execution_count": 51,
   "metadata": {},
   "outputs": [
    {
     "name": "stdout",
     "output_type": "stream",
     "text": [
      "Akurasi 0.6493933166486934\n"
     ]
    },
    {
     "name": "stderr",
     "output_type": "stream",
     "text": [
      "C:\\Users\\ACER\\anaconda3\\lib\\site-packages\\sklearn\\metrics\\_classification.py:1318: UndefinedMetricWarning: Precision and F-score are ill-defined and being set to 0.0 in labels with no predicted samples. Use `zero_division` parameter to control this behavior.\n",
      "  _warn_prf(average, modifier, msg_start, len(result))\n",
      "C:\\Users\\ACER\\anaconda3\\lib\\site-packages\\sklearn\\metrics\\_classification.py:1318: UndefinedMetricWarning: Precision and F-score are ill-defined and being set to 0.0 in labels with no predicted samples. Use `zero_division` parameter to control this behavior.\n",
      "  _warn_prf(average, modifier, msg_start, len(result))\n"
     ]
    },
    {
     "name": "stdout",
     "output_type": "stream",
     "text": [
      "              precision    recall  f1-score   support\n",
      "\n",
      "           0       0.00      0.00      0.00     17439\n",
      "           1       0.00      0.00      0.00     34589\n",
      "           2       0.67      0.58      0.62    685678\n",
      "           3       0.63      0.76      0.69    736704\n",
      "\n",
      "    accuracy                           0.65   1474410\n",
      "   macro avg       0.33      0.33      0.33   1474410\n",
      "weighted avg       0.63      0.65      0.63   1474410\n",
      "\n"
     ]
    },
    {
     "name": "stderr",
     "output_type": "stream",
     "text": [
      "C:\\Users\\ACER\\anaconda3\\lib\\site-packages\\sklearn\\metrics\\_classification.py:1318: UndefinedMetricWarning: Precision and F-score are ill-defined and being set to 0.0 in labels with no predicted samples. Use `zero_division` parameter to control this behavior.\n",
      "  _warn_prf(average, modifier, msg_start, len(result))\n"
     ]
    }
   ],
   "source": [
    "from sklearn.ensemble import RandomForestClassifier\n",
    "clf = RandomForestClassifier(n_estimators=10, random_state=123)\n",
    "clf.fit(X_train, Y_train)\n",
    "Y_pred = clf.predict(X_test)\n",
    "acc = accuracy_score(Y_test, Y_pred)\n",
    "print(\"Akurasi {}\".format(acc))\n",
    "print(classification_report(Y_test, Y_pred))"
   ]
  }
 ],
 "metadata": {
  "kernelspec": {
   "display_name": "Python 3 (ipykernel)",
   "language": "python",
   "name": "python3"
  },
  "language_info": {
   "codemirror_mode": {
    "name": "ipython",
    "version": 3
   },
   "file_extension": ".py",
   "mimetype": "text/x-python",
   "name": "python",
   "nbconvert_exporter": "python",
   "pygments_lexer": "ipython3",
   "version": "3.9.12"
  },
  "vscode": {
   "interpreter": {
    "hash": "50c5c2b6e05db9fe8b3433ad8e6dc52eedfaade324407e06c6799762d580ed33"
   }
  }
 },
 "nbformat": 4,
 "nbformat_minor": 2
}
